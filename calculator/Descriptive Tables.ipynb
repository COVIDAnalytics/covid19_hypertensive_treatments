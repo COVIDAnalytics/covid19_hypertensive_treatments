{
 "cells": [
  {
   "cell_type": "code",
   "execution_count": 1,
   "metadata": {},
   "outputs": [],
   "source": [
    "import numpy as np\n",
    "import pandas as pd\n",
    "import pickle\n",
    "import os\n",
    "\n",
    "import evaluation.descriptive_utils as u\n",
    "import analyzer.dataset as ds\n",
    "import analyzer.loaders.hartford.hartford as hartford\n",
    "\n",
    "from scipy import stats"
   ]
  },
  {
   "cell_type": "code",
   "execution_count": 2,
   "metadata": {},
   "outputs": [],
   "source": [
    "columns = ['Age', 'Gender', 'ABG: Oxygen Saturation (SaO2)', 'Cardiac Frequency', 'Alanine Aminotransferase (ALT)', 'Blood Creatinine', 'Blood Sodium', 'Blood Urea Nitrogen (BUN)', 'Body Temperature', 'C-Reactive Protein (CRP)', 'CBC: Hemoglobin', 'CBC: Leukocytes', 'CBC: Mean Corpuscular Volume (MCV)', 'Aspartate Aminotransferase (AST)', 'CBC: Platelets', 'Cardiac dysrhythmias', 'Chronic kidney disease', 'Coronary atherosclerosis and other heart disease', 'Diabetes', 'Glycemia', 'Potassium Blood Level', 'Prothrombin Time (INR)']\n",
    "features = {'numeric': [{'name': 'Age', 'index': 0, 'min_val': 0.0, 'max_val': 100.0, 'default': 69.0, 'explanation': 'Age of the patient. Modeled only for adults.'}, {'name': 'ABG: Oxygen Saturation (SaO2)', 'index': 2, 'min_val': 80, 'max_val': 100.0, 'default': 94.0, 'explanation': 'Oxygen Saturation (SaO2) in %'}, {'name': 'Cardiac Frequency', 'index': 3, 'min_val': 40.0, 'max_val': 171.0, 'default': 90.0, 'explanation': 'Number of Beats per Minute.'}, {'name': 'Alanine Aminotransferase (ALT)', 'index': 4, 'min_val': 2.0, 'max_val': 929.0, 'default': 27.4, 'explanation': 'Alanine Aminotransferase (ALT) in U/L'}, {'name': 'Blood Creatinine', 'index': 5, 'min_val': 0.0, 'max_val': 11.0, 'default': 0.94, 'explanation': 'Blood Creatinine in mg/dL'}, {'name': 'Blood Sodium', 'index': 6, 'min_val': 115.0, 'max_val': 166.0, 'default': 137.3, 'explanation': 'Blood Sodium in mmol/L'}, {'name': 'Blood Urea Nitrogen (BUN)', 'index': 7, 'min_val': 4.0, 'max_val': 174.0, 'default': 17.29, 'explanation': 'Blood Urea Nitrogen (BUN) in mg/dL'}, {'name': 'Body Temperature', 'index': 8, 'min_val': 34, 'max_val': 104.0, 'default': 98.6, 'explanation': 'Body temperature measurement. Use the dropdown to select the unit (Fahrenheit or Celsius).'}, {'name': 'C-Reactive Protein (CRP)', 'index': 9, 'min_val': 0.0, 'max_val': 567.0, 'default': 75.47, 'explanation': 'C-Reactive Protein (CRP) in mg/L'}, {'name': 'CBC: Hemoglobin', 'index': 10, 'min_val': 6.0, 'max_val': 19.0, 'default': 13.9, 'explanation': 'Hemoglobin in g/dL'}, {'name': 'CBC: Leukocytes', 'index': 11, 'min_val': 0.0, 'max_val': 36.0, 'default': 6.93, 'explanation': 'Leukocytes in 10^3/muL'}, {'name': 'CBC: Mean Corpuscular Volume (MCV)', 'index': 12, 'min_val': 58.0, 'max_val': 116.0, 'default': 88.42, 'explanation': 'Mean Corpuscular Volume (MCV) in fL'}, {'name': 'Aspartate Aminotransferase (AST)', 'index': 13, 'min_val': 9.0, 'max_val': 941.0, 'default': 37.0, 'explanation': 'Aspartate Aminotransferase (AST) in U/L'}, {'name': 'CBC: Platelets', 'index': 14, 'min_val': 20.0, 'max_val': 756.0, 'default': 204.0, 'explanation': 'Platelets in 10^3/muL'}, {'name': 'Glycemia', 'index': 19, 'min_val': 57.0, 'max_val': 620.0, 'default': 119.0, 'explanation': 'Blood Glucose in mg/dL'}, {'name': 'Potassium Blood Level', 'index': 20, 'min_val': 2.0, 'max_val': 7.0, 'default': 4.06, 'explanation': 'Potassium Blood Level in mmol/L'}, {'name': 'Prothrombin Time (INR)', 'index': 21, 'min_val': 0.0, 'max_val': 17.0, 'default': 1.11, 'explanation': 'Prothrombin Time Ratio (INR)'}], 'categorical': [{'name': 'Gender', 'index': 1, 'vals': [0.0, 1.0], 'default': 0.0, 'explanation': 'Select the gender of the patient'}], 'checkboxes': [{'name': 'Symptoms', 'index': [], 'vals': [], 'explanation': ['Select the existing symptoms.']}], 'multidrop': [{'name': 'Comorbidities', 'index': [15, 16, 17, 18], 'vals': ['Cardiac dysrhythmias', 'Chronic kidney disease', 'Coronary atherosclerosis and other heart disease', 'Diabetes'], 'explanation': ['Select the existing chronic diseases or conditions.']}]}"
   ]
  },
  {
   "cell_type": "code",
   "execution_count": 3,
   "metadata": {},
   "outputs": [
    {
     "name": "stdout",
     "output_type": "stream",
     "text": [
      "['discharge' 'comorbidities' 'vitals' 'lab' 'demographics']\n",
      "ABG: Oxygen Saturation (SaO2): LB = 75, UB = 99 (Filter = 181)\n",
      "Age: LB = 26.0, UB = 96.0 (Filter = 49)\n",
      "Alanine Aminotransferase (ALT): LB = 7.0, UB = 213.0 (Filter = 50)\n",
      "Aspartate Aminotransferase (AST): LB = 13.0, UB = 228.0 (Filter = 52)\n"
     ]
    },
    {
     "name": "stderr",
     "output_type": "stream",
     "text": [
      "/home/systems/engaging-ood/software/anaconda3/2018.12/lib/python3.7/site-packages/pandas/core/frame.py:3781: SettingWithCopyWarning: \n",
      "A value is trying to be set on a copy of a slice from a DataFrame\n",
      "\n",
      "See the caveats in the documentation: http://pandas.pydata.org/pandas-docs/stable/indexing.html#indexing-view-versus-copy\n",
      "  return super(DataFrame, self).rename(**kwargs)\n",
      "/home/hwiberg/research/COVID_risk/covid19_calculator/calculator/analyzer/dataset.py:59: SettingWithCopyWarning: \n",
      "A value is trying to be set on a copy of a slice from a DataFrame\n",
      "\n",
      "See the caveats in the documentation: http://pandas.pydata.org/pandas-docs/stable/indexing.html#indexing-view-versus-copy\n",
      "  df_X[col][outlier_inds] = np.nan\n"
     ]
    },
    {
     "name": "stdout",
     "output_type": "stream",
     "text": [
      "Blood Creatinine: LB = 0.0, UB = 6.0 (Filter = 27)\n",
      "Blood Sodium: LB = 126.0, UB = 154.0 (Filter = 54)\n",
      "Blood Urea Nitrogen (BUN): LB = 6.0, UB = 112.0 (Filter = 47)\n",
      "Body Temperature: LB = 95.0, UB = 104.0 (Filter = 8)\n",
      "C-Reactive Protein (CRP): LB = 0.0, UB = 402.0 (Filter = 29)\n",
      "CBC: Hemoglobin: LB = 8.0, UB = 18.0 (Filter = 33)\n",
      "CBC: Leukocytes: LB = 2.0, UB = 23.0 (Filter = 42)\n",
      "CBC: Mean Corpuscular Volume (MCV): LB = 65.0, UB = 103.0 (Filter = 49)\n",
      "CBC: Platelets: LB = 68.0, UB = 524.0 (Filter = 55)\n",
      "Cardiac Frequency: LB = 56.0, UB = 140.0 (Filter = 54)\n",
      "Cardiac dysrhythmias: LB = 0.0, UB = 1.0 (Filter = 0)\n",
      "Chronic kidney disease: LB = 0.0, UB = 1.0 (Filter = 0)\n",
      "Coronary atherosclerosis and other heart disease: LB = 0.0, UB = 1.0 (Filter = 0)\n",
      "Diabetes: LB = 0.0, UB = 1.0 (Filter = 0)\n",
      "Essential hypertension: LB = 0.0, UB = 1.0 (Filter = 0)\n",
      "Gender: LB = 0.0, UB = 1.0 (Filter = 0)\n",
      "Glycemia: LB = 80.0, UB = 381.0 (Filter = 53)\n",
      "Potassium Blood Level: LB = 2.0, UB = 6.0 (Filter = 12)\n",
      "Prothrombin Time (INR): LB = 0.0, UB = 7.0 (Filter = 19)\n",
      "Systolic Blood Pressure: LB = 82.0, UB = 186.0 (Filter = 43)\n",
      "Cannot filter column:  Location\n"
     ]
    }
   ],
   "source": [
    "model_type = \"mortality\"; model_lab = \"with_lab\";\n",
    "\n",
    "website_path = '../../website/'\n",
    "\n",
    "# with open(website_path+'assets/risk_calculators/'+model_type+'/model_'+model_lab+'.pkl', 'rb') as file:\n",
    "#         model_file = pickle.load(file)\n",
    "\n",
    "# model = model_file['model']\n",
    "# features = model_file['json']\n",
    "# columns = model_file['columns']\n",
    "# imputer= model_file['imputer']\n",
    "\n",
    "X, y = u.get_dataset_preload(model_type, model_lab)"
   ]
  },
  {
   "cell_type": "code",
   "execution_count": 4,
   "metadata": {},
   "outputs": [],
   "source": [
    "data = X.drop(['Location'], axis = 1).copy()\n",
    "data['Outcome'] = y\n",
    "\n",
    "data_a= data.query('Outcome == 1')\n",
    "data_b = data.query('Outcome == 0')\n",
    "summary_table = u.pairwise_compare(data_a, data_b, features, \n",
    "                                   title_mapping = u.title_mapping_summary, row_order = u.row_order,\n",
    "                                 filter_A = 'Non-Survivor', filter_B = 'Survivor')\n",
    "\n",
    "summary_table.to_csv('../results/summary_tables/descriptive_derivation_bysurvival.csv',\n",
    "                      index = False)"
   ]
  },
  {
   "cell_type": "code",
   "execution_count": 5,
   "metadata": {},
   "outputs": [],
   "source": [
    "data_a = X.copy()\n",
    "data_a['Outcome'] = y\n",
    "\n",
    "val_df = pd.read_csv(\"../../covid19_greece/general_greek_registry.csv\")\n",
    "\n",
    "val_df = val_df.loc[val_df['Outcome'].isin([0,1])]\n",
    "if model_lab == 'without_lab':\n",
    "    val_df = val_df.rename(columns={'ABG: Oxygen Saturation (SaO2)':'SaO2'})\n",
    "if val_df['Body Temperature'].mean() < 45:\n",
    "    val_df['Body Temperature'] = ((val_df['Body Temperature']/5)*9)+32\n",
    "    \n",
    "data_gr = val_df.reindex(columns = columns+['Outcome'])\n",
    "\n",
    "summary_table = u.pairwise_compare(data_a, data_gr, features,\n",
    "                                title_mapping = u.title_mapping_summary, row_order = u.row_order,\n",
    "                                filter_A = 'Derivation', filter_B = 'Greece')\n",
    "\n",
    "summary_table.to_csv('../results/summary_tables/descriptive_derivation_greece.csv',\n",
    "                      index = False)"
   ]
  },
  {
   "cell_type": "code",
   "execution_count": 7,
   "metadata": {},
   "outputs": [],
   "source": [
    "#%% Sevilla\n",
    "data_sev = pd.read_csv(\"../../covid19_sevilla/sevilla_clean.csv\")\n",
    "data_sev = data_sev.reindex(columns = columns+['Outcome'])\n",
    "\n",
    "summary_table = u.pairwise_compare(data_a, data_sev, features,\n",
    "                                title_mapping = u.title_mapping_summary, row_order = u.row_order,\n",
    "                                filter_A = 'Derivation', filter_B = 'Sevilla')\n",
    "\n",
    "summary_table.to_csv('../results/summary_tables/descriptive_derivation_sevilla.csv',\n",
    "                      index = False)"
   ]
  },
  {
   "cell_type": "code",
   "execution_count": 8,
   "metadata": {},
   "outputs": [],
   "source": [
    "#%% Hartford\n",
    "df_hhc = pd.read_csv(\"/nfs/sloanlab003/projects/cov19_calc_proj/hartford/hhc_inpatient_main.csv\")\n",
    "\n",
    "if model_lab == \"with_lab\":\n",
    "    df_hhc.rename(columns={'SaO2':'ABG: Oxygen Saturation (SaO2)'}, inplace = True)\n",
    "    \n",
    "data_b = df_hhc.reindex(columns = columns)\n",
    "data_b['Outcome'] = df_hhc['Outcome']\n",
    "\n",
    "summary_table = u.pairwise_compare(data_a, data_b, features,\n",
    "                                title_mapping = u.title_mapping, row_order = u.row_order,\n",
    "                                filter_A = 'Derivation', filter_B = 'Hartford')\n",
    "\n",
    "summary_table.to_csv('../results/summary_tables/descriptive_derivation_hartford.csv',\n",
    "                      index = True)"
   ]
  },
  {
   "cell_type": "code",
   "execution_count": 27,
   "metadata": {},
   "outputs": [],
   "source": [
    "#%% Summarize derivation by site\n",
    "data = X.copy()\n",
    "data['Outcome'] = y\n",
    "\n",
    "describe_cremona = u.descriptive_table(data.query('Location == \"Cremona\"'), features, short_version = True)\n",
    "describe_spain = u.descriptive_table(data.query('Location == \"Spain\"'), features, short_version = True)\n",
    "describe_hartford_other = u.descriptive_table(data.query('Location == \"Hartford\"'), features, short_version = True)\n",
    "full = pd.concat([describe_cremona, describe_spain, describe_hartford_other], axis = 1)\n",
    "\n",
    "full = full.reindex(u.row_order)\n",
    "full.reset_index(inplace = True)\n",
    "full['index'] = full['index'].replace(u.title_mapping_summary, inplace=False)\n",
    "\n",
    "full.loc['Filter',:] = [np.nan, 'Cremona', 'Cremona', 'Spain', 'Spain', 'Hartford Affiliate', 'Hartford Affiliate']\n",
    "full.to_csv(\"../results/descriptive_all_sites_derivation.csv\")"
   ]
  },
  {
   "cell_type": "code",
   "execution_count": null,
   "metadata": {},
   "outputs": [],
   "source": [
    "#%% Summarize validation by site\n",
    "data = X.copy()\n",
    "data['Outcome'] = y\n",
    "\n",
    "describe_greece = u.descriptive_table(data_gr, features, short_version = True)\n",
    "describe_sevilla = u.descriptive_table(data_sev, features, short_version = True)\n",
    "describe_hartford_main = u.descriptive_table(data.query('Location == \"Hartford\"'), features, short_version = True)\n",
    "full = pd.concat([describe_greece, describe_sevilla, describe_hartford_other], axis = 1)\n",
    "\n",
    "full = full.reindex(u.row_order)\n",
    "full.reset_index(inplace = True)\n",
    "full['index'] = full['index'].replace(u.title_mapping_summary, inplace=False)\n",
    "\n",
    "full.loc['Filter',:] = [np.nan, 'Greek HC', 'Greek HC', 'Sevilla', 'Sevilla', 'Hartford Hospital', 'Hartford Hospital']\n",
    "full.to_csv(\"../results/descriptive_all_sites_validation.csv\")"
   ]
  }
 ],
 "metadata": {
  "kernelspec": {
   "display_name": "Python 3",
   "language": "python",
   "name": "python3"
  },
  "language_info": {
   "codemirror_mode": {
    "name": "ipython",
    "version": 3
   },
   "file_extension": ".py",
   "mimetype": "text/x-python",
   "name": "python",
   "nbconvert_exporter": "python",
   "pygments_lexer": "ipython3",
   "version": "3.7.1"
  }
 },
 "nbformat": 4,
 "nbformat_minor": 2
}
