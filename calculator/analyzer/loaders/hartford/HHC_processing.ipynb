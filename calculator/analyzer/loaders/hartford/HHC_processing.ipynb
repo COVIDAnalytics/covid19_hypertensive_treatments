{
 "cells": [
  {
   "cell_type": "code",
   "execution_count": 3,
   "metadata": {},
   "outputs": [],
   "source": [
    "import pandas as pd\n",
    "import numpy as np\n",
    "import os\n",
    "import re\n",
    "import datetime\n",
    "import pickle\n",
    "\n",
    "os.chdir(\"/home/hwiberg/research/COVID_risk/covid19_calculator/calculator/\")\n",
    "\n",
    "import analyzer.loaders.hartford.utils as u\n",
    "path = '/nfs/sloanlab001/data/HartfordHealthCare/HHCtoMIT/Risk_Calculator/'\n",
    "\n",
    "file_list = os.listdir(path)\n",
    "\n",
    "# Find relevant files\n",
    "file_test = sorted(filter(lambda x: \"DYNIdeas_LOS_COVID_Diag_and_Orders\" in x, file_list))[-1]\n",
    "file_add = sorted(filter(lambda x: \"hashDYNIdeas_COVID_Prediction_Response_append\" in x, file_list))[-1]"
   ]
  },
  {
   "cell_type": "markdown",
   "metadata": {},
   "source": [
    "### Load test data and filter to inpatient positive cases"
   ]
  },
  {
   "cell_type": "code",
   "execution_count": 62,
   "metadata": {},
   "outputs": [],
   "source": [
    "version = \"inpatient\""
   ]
  },
  {
   "cell_type": "code",
   "execution_count": 63,
   "metadata": {},
   "outputs": [],
   "source": [
    "df_test = pd.read_csv(path+file_test, sep='|', encoding= 'unicode_escape', dtype = 'object')"
   ]
  },
  {
   "cell_type": "code",
   "execution_count": 64,
   "metadata": {},
   "outputs": [],
   "source": [
    "df_test.rename(columns={'HOSP_DISCHRG_TIME': 'HOSP_DISCH_TIME'}, inplace = True)\n",
    "\n",
    "df_test = df_test.assign(\n",
    "    LAB_RESULT_CLEAN = lambda dataframe: dataframe['LAB_RESULT'].map(lambda x: u.clean_labs(x)),\n",
    "    PAT_CLASS_CLEAN = lambda dataframe: dataframe['PAT_CLASS'].map(lambda x: u.clean_patient_class(x)),\n",
    "    MORTALITY_CLEAN = lambda dataframe: dataframe['DISCH_DISP'].map(lambda x: u.clean_mortality(x)),\n",
    ");"
   ]
  },
  {
   "cell_type": "code",
   "execution_count": 65,
   "metadata": {},
   "outputs": [],
   "source": [
    "# pd.crosstab(index=df_test['PAT_CLASS'], columns=df_test['PAT_CLASS_CLEAN'])"
   ]
  },
  {
   "cell_type": "code",
   "execution_count": 66,
   "metadata": {},
   "outputs": [],
   "source": [
    "# Only include positive test results and inpatient visits\n",
    "df_covid_inpatient = df_test.query('LAB_RESULT_CLEAN == \"Positive\" & PAT_CLASS_CLEAN == \"Inpatient\"')\n",
    "\n",
    "# Only include patients who were discharged (expired patients have discharge times)\n",
    "df_discharged = df_covid_inpatient.loc[pd.notnull(df_covid_inpatient['HOSP_DISCH_TIME'])]\n",
    "\n",
    "# Drop duplicate visits\n",
    "df_discharged = df_discharged[['PAT_MRN_ID', 'PAT_ENC_CSN_ID', 'LOC_PARENT_NAME',\n",
    "                               'AGE', 'SEX', 'HOSP_ADMSN_TIME', 'HOSP_DISCH_TIME', 'PAT_CLASS_CLEAN', 'MORTALITY_CLEAN']]\n",
    "df_discharged.drop_duplicates(inplace=True)\n",
    "\n",
    "# Exclude any patients who appear more than once (unclear what their circumstances were - rare case)\n",
    "df_discharged.groupby('PAT_MRN_ID').filter(lambda x: len(x) == 1);"
   ]
  },
  {
   "cell_type": "code",
   "execution_count": 67,
   "metadata": {},
   "outputs": [
    {
     "data": {
      "text/html": [
       "<div>\n",
       "<style scoped>\n",
       "    .dataframe tbody tr th:only-of-type {\n",
       "        vertical-align: middle;\n",
       "    }\n",
       "\n",
       "    .dataframe tbody tr th {\n",
       "        vertical-align: top;\n",
       "    }\n",
       "\n",
       "    .dataframe thead th {\n",
       "        text-align: right;\n",
       "    }\n",
       "</style>\n",
       "<table border=\"1\" class=\"dataframe\">\n",
       "  <thead>\n",
       "    <tr style=\"text-align: right;\">\n",
       "      <th>MORTALITY_CLEAN</th>\n",
       "      <th>Alive</th>\n",
       "      <th>Expired</th>\n",
       "    </tr>\n",
       "    <tr>\n",
       "      <th>HHC_SITE</th>\n",
       "      <th></th>\n",
       "      <th></th>\n",
       "    </tr>\n",
       "  </thead>\n",
       "  <tbody>\n",
       "    <tr>\n",
       "      <th>Main</th>\n",
       "      <td>516</td>\n",
       "      <td>111</td>\n",
       "    </tr>\n",
       "    <tr>\n",
       "      <th>Other</th>\n",
       "      <td>329</td>\n",
       "      <td>99</td>\n",
       "    </tr>\n",
       "  </tbody>\n",
       "</table>\n",
       "</div>"
      ],
      "text/plain": [
       "MORTALITY_CLEAN  Alive  Expired\n",
       "HHC_SITE                       \n",
       "Main               516      111\n",
       "Other              329       99"
      ]
     },
     "execution_count": 67,
     "metadata": {},
     "output_type": "execute_result"
    }
   ],
   "source": [
    "df_discharged['HHC_SITE'] = df_discharged['LOC_PARENT_NAME'].map(lambda x: u.hhc_site(x))\n",
    "\n",
    "pd.crosstab(index = df_discharged['HHC_SITE'], \n",
    "            columns = df_discharged['MORTALITY_CLEAN'])"
   ]
  },
  {
   "cell_type": "code",
   "execution_count": 68,
   "metadata": {},
   "outputs": [
    {
     "name": "stdout",
     "output_type": "stream",
     "text": [
      "Reading file: hhDYNIdeas_COVID_Prediction_Response_Hist_03012020_03152020_202005150502.txt\n",
      "Reading file: hhDYNIdeas_COVID_Prediction_Response_Hist_03162020_03312020_202005150451.txt\n",
      "Reading file: hhDYNIdeas_COVID_Prediction_Response_Hist_04012020_04152020_202005150351.txt\n",
      "Reading file: hhDYNIdeas_COVID_Prediction_Response_Hist_04162020_04302020_202005150424.txt\n",
      "Reading file: hhDYNIdeas_COVID_Prediction_Response_Hist_05012020_05142020_202005150219.txt\n"
     ]
    }
   ],
   "source": [
    "# Load admissions data\n",
    "df_all = pd.DataFrame()\n",
    "for file in file_list:\n",
    "    if file.startswith(\"hhDYNIdeas_COVID_Prediction_Response_Hist_\"):\n",
    "        print(\"Reading file: %s\" % file)\n",
    "        df = pd.read_csv(path+file, sep='|', encoding= 'unicode_escape', dtype='object')\n",
    "        df_all = df_all.append(df)"
   ]
  },
  {
   "cell_type": "markdown",
   "metadata": {},
   "source": [
    "## Parse comorbidities"
   ]
  },
  {
   "cell_type": "code",
   "execution_count": 69,
   "metadata": {},
   "outputs": [],
   "source": [
    "def check_diagnosis(c, dx):\n",
    "    if pd.isnull(c):\n",
    "        return False\n",
    "    else:\n",
    "        return bool(re.match(\".*\"+dx, c.lower()))\n",
    "\n",
    "def diagnosis_filter(dx_list, dx):\n",
    "    return dx_list[[check_diagnosis(x, dx) for x in dx_list]]\n",
    "\n",
    "def comorbidity_map(c, dx_list, keyword = None):\n",
    "    icd_list = list(icd10_map.loc[icd10_map['GROUP_HCUP'] == c,'SHORT_DESCRIPTION'])\n",
    "    if keyword != None:\n",
    "        icd_list.extend([keyword])\n",
    "    all_dx = [diagnosis_filter(dx_list, x.lower()) for x in icd_list]\n",
    "    dx = list(set().union(*all_dx))\n",
    "    return dx"
   ]
  },
  {
   "cell_type": "code",
   "execution_count": 70,
   "metadata": {},
   "outputs": [],
   "source": [
    "df_dx = df_all[['PAT_MRN_ID','COVID_RESEARCH_DX','ENC_DX']].set_index('PAT_MRN_ID')\n",
    "df_dx_wide = df_dx['COVID_RESEARCH_DX'].str.split(\"; \",expand=True)\n",
    "df_dx_wide['ENC_DX'] = df_dx['ENC_DX']\n",
    "df_dx_long = df_dx_wide.unstack().dropna().reset_index()\n",
    "df_dx_long.columns = ['level','PAT_MRN_ID','DX']"
   ]
  },
  {
   "cell_type": "code",
   "execution_count": 71,
   "metadata": {},
   "outputs": [],
   "source": [
    "icd10_map = pd.read_csv(\"analyzer/hcup_dictionary_icd10.csv\")\n",
    "dx_list = df_dx_long.DX.unique()\n",
    "\n",
    "COMORB_MAP = {'Essential hypertension': comorbidity_map('Essential hypertension', dx_list, keyword = 'hypertension'),\n",
    "        'Diabetes':comorbidity_map('Diabetes', dx_list, keyword = 'diabetes'),\n",
    "        'Coronary atherosclerosis and other heart disease':comorbidity_map('Coronary atherosclerosis and other heart disease', dx_list, keyword = '(atherosclerosis)|(cardiac disease)'),\n",
    "        'Cardiac dysrhythmias':comorbidity_map('Cardiac dysrhythmias', dx_list, keyword = 'arrhythmia'),\n",
    "        'Chronic kidney disease':comorbidity_map('Chronic kidney disease', dx_list, keyword = 'chronic (kidney|renal)')\n",
    "             }"
   ]
  },
  {
   "cell_type": "code",
   "execution_count": 84,
   "metadata": {},
   "outputs": [
    {
     "data": {
      "text/plain": [
       "['PSVT (paroxysmal supraventricular tachycardia) (HCC)',\n",
       " 'Palpitations in pediatric patient',\n",
       " 'Paroxysmal atrial fibrillation with rapid ventricular response (HCC)',\n",
       " 'Paroxysmal atrial fibrillation (HCC)',\n",
       " 'Other persistent atrial fibrillation',\n",
       " 'Recurrent ventricular tachycardia (HCC)',\n",
       " 'SVT (supraventricular tachycardia) (HCC)',\n",
       " 'Chronic atrial fibrillation',\n",
       " 'Palpitations with regular cardiac rhythm',\n",
       " 'Supraventricular tachycardia (HCC)',\n",
       " 'Arrhythmia',\n",
       " 'Paroxysmal supraventricular tachycardia (HCC)',\n",
       " 'Longstanding persistent atrial fibrillation',\n",
       " 'Bradycardia, unspecified',\n",
       " 'VT (ventricular tachycardia) (HCC)',\n",
       " 'Palpitations',\n",
       " 'Intermittent palpitations',\n",
       " 'Ventricular tachycardia (HCC)',\n",
       " 'Ventricular arrhythmia',\n",
       " 'Persistent atrial fibrillation',\n",
       " 'Rapid palpitations',\n",
       " 'Fetal arrhythmia affecting pregnancy, antepartum',\n",
       " 'Ventricular tachyarrhythmia (HCC)',\n",
       " 'Heart palpitations',\n",
       " 'Tachyarrhythmia',\n",
       " 'Fetal arrhythmia before the onset of labor',\n",
       " 'AF (paroxysmal atrial fibrillation) (HCC)']"
      ]
     },
     "execution_count": 84,
     "metadata": {},
     "output_type": "execute_result"
    }
   ],
   "source": [
    "COMORB_MAP['Cardiac dysrhythmias']"
   ]
  },
  {
   "cell_type": "code",
   "execution_count": 72,
   "metadata": {},
   "outputs": [],
   "source": [
    "for c in u.COMORBIDITIES_COLUMNS:\n",
    "    df_dx_long[c] = [1 if x in COMORB_MAP[c] else 0 for x in df_dx_long['DX']]"
   ]
  },
  {
   "cell_type": "code",
   "execution_count": 85,
   "metadata": {},
   "outputs": [
    {
     "ename": "KeyboardInterrupt",
     "evalue": "",
     "output_type": "error",
     "traceback": [
      "\u001b[0;31m---------------------------------------------------------------------------\u001b[0m",
      "\u001b[0;31mTypeError\u001b[0m                                 Traceback (most recent call last)",
      "\u001b[0;32m/home/systems/engaging-ood/software/anaconda3/2018.12/lib/python3.7/site-packages/pandas/core/nanops.py\u001b[0m in \u001b[0;36m_f\u001b[0;34m(*args, **kwargs)\u001b[0m\n\u001b[1;32m     76\u001b[0m                 \u001b[0;32mwith\u001b[0m \u001b[0mnp\u001b[0m\u001b[0;34m.\u001b[0m\u001b[0merrstate\u001b[0m\u001b[0;34m(\u001b[0m\u001b[0minvalid\u001b[0m\u001b[0;34m=\u001b[0m\u001b[0;34m'ignore'\u001b[0m\u001b[0;34m)\u001b[0m\u001b[0;34m:\u001b[0m\u001b[0;34m\u001b[0m\u001b[0;34m\u001b[0m\u001b[0m\n\u001b[0;32m---> 77\u001b[0;31m                     \u001b[0;32mreturn\u001b[0m \u001b[0mf\u001b[0m\u001b[0;34m(\u001b[0m\u001b[0;34m*\u001b[0m\u001b[0margs\u001b[0m\u001b[0;34m,\u001b[0m \u001b[0;34m**\u001b[0m\u001b[0mkwargs\u001b[0m\u001b[0;34m)\u001b[0m\u001b[0;34m\u001b[0m\u001b[0;34m\u001b[0m\u001b[0m\n\u001b[0m\u001b[1;32m     78\u001b[0m             \u001b[0;32mexcept\u001b[0m \u001b[0mValueError\u001b[0m \u001b[0;32mas\u001b[0m \u001b[0me\u001b[0m\u001b[0;34m:\u001b[0m\u001b[0;34m\u001b[0m\u001b[0;34m\u001b[0m\u001b[0m\n",
      "\u001b[0;32m/home/systems/engaging-ood/software/anaconda3/2018.12/lib/python3.7/site-packages/pandas/core/nanops.py\u001b[0m in \u001b[0;36mnansum\u001b[0;34m(values, axis, skipna, min_count)\u001b[0m\n\u001b[1;32m    335\u001b[0m         \u001b[0mdtype_sum\u001b[0m \u001b[0;34m=\u001b[0m \u001b[0mnp\u001b[0m\u001b[0;34m.\u001b[0m\u001b[0mfloat64\u001b[0m\u001b[0;34m\u001b[0m\u001b[0;34m\u001b[0m\u001b[0m\n\u001b[0;32m--> 336\u001b[0;31m     \u001b[0mthe_sum\u001b[0m \u001b[0;34m=\u001b[0m \u001b[0mvalues\u001b[0m\u001b[0;34m.\u001b[0m\u001b[0msum\u001b[0m\u001b[0;34m(\u001b[0m\u001b[0maxis\u001b[0m\u001b[0;34m,\u001b[0m \u001b[0mdtype\u001b[0m\u001b[0;34m=\u001b[0m\u001b[0mdtype_sum\u001b[0m\u001b[0;34m)\u001b[0m\u001b[0;34m\u001b[0m\u001b[0;34m\u001b[0m\u001b[0m\n\u001b[0m\u001b[1;32m    337\u001b[0m     \u001b[0mthe_sum\u001b[0m \u001b[0;34m=\u001b[0m \u001b[0m_maybe_null_out\u001b[0m\u001b[0;34m(\u001b[0m\u001b[0mthe_sum\u001b[0m\u001b[0;34m,\u001b[0m \u001b[0maxis\u001b[0m\u001b[0;34m,\u001b[0m \u001b[0mmask\u001b[0m\u001b[0;34m,\u001b[0m \u001b[0mmin_count\u001b[0m\u001b[0;34m=\u001b[0m\u001b[0mmin_count\u001b[0m\u001b[0;34m)\u001b[0m\u001b[0;34m\u001b[0m\u001b[0;34m\u001b[0m\u001b[0m\n",
      "\u001b[0;32m/home/systems/engaging-ood/software/anaconda3/2018.12/lib/python3.7/site-packages/numpy/core/_methods.py\u001b[0m in \u001b[0;36m_sum\u001b[0;34m(a, axis, dtype, out, keepdims, initial)\u001b[0m\n\u001b[1;32m     35\u001b[0m          initial=_NoValue):\n\u001b[0;32m---> 36\u001b[0;31m     \u001b[0;32mreturn\u001b[0m \u001b[0mumr_sum\u001b[0m\u001b[0;34m(\u001b[0m\u001b[0ma\u001b[0m\u001b[0;34m,\u001b[0m \u001b[0maxis\u001b[0m\u001b[0;34m,\u001b[0m \u001b[0mdtype\u001b[0m\u001b[0;34m,\u001b[0m \u001b[0mout\u001b[0m\u001b[0;34m,\u001b[0m \u001b[0mkeepdims\u001b[0m\u001b[0;34m,\u001b[0m \u001b[0minitial\u001b[0m\u001b[0;34m)\u001b[0m\u001b[0;34m\u001b[0m\u001b[0;34m\u001b[0m\u001b[0m\n\u001b[0m\u001b[1;32m     37\u001b[0m \u001b[0;34m\u001b[0m\u001b[0m\n",
      "\u001b[0;31mTypeError\u001b[0m: unsupported operand type(s) for +: 'int' and 'str'",
      "\nDuring handling of the above exception, another exception occurred:\n",
      "\u001b[0;31mKeyboardInterrupt\u001b[0m                         Traceback (most recent call last)",
      "\u001b[0;32m<ipython-input-85-e78021f7d253>\u001b[0m in \u001b[0;36m<module>\u001b[0;34m\u001b[0m\n\u001b[0;32m----> 1\u001b[0;31m \u001b[0mdf_dx_long\u001b[0m\u001b[0;34m.\u001b[0m\u001b[0msum\u001b[0m\u001b[0;34m(\u001b[0m\u001b[0maxis\u001b[0m\u001b[0;34m=\u001b[0m\u001b[0;36m0\u001b[0m\u001b[0;34m)\u001b[0m\u001b[0;34m\u001b[0m\u001b[0;34m\u001b[0m\u001b[0m\n\u001b[0m",
      "\u001b[0;32m/home/systems/engaging-ood/software/anaconda3/2018.12/lib/python3.7/site-packages/pandas/core/generic.py\u001b[0m in \u001b[0;36mstat_func\u001b[0;34m(self, axis, skipna, level, numeric_only, min_count, **kwargs)\u001b[0m\n\u001b[1;32m   9591\u001b[0m                                       skipna=skipna, min_count=min_count)\n\u001b[1;32m   9592\u001b[0m         return self._reduce(f, name, axis=axis, skipna=skipna,\n\u001b[0;32m-> 9593\u001b[0;31m                             numeric_only=numeric_only, min_count=min_count)\n\u001b[0m\u001b[1;32m   9594\u001b[0m \u001b[0;34m\u001b[0m\u001b[0m\n\u001b[1;32m   9595\u001b[0m     \u001b[0;32mreturn\u001b[0m \u001b[0mset_function_name\u001b[0m\u001b[0;34m(\u001b[0m\u001b[0mstat_func\u001b[0m\u001b[0;34m,\u001b[0m \u001b[0mname\u001b[0m\u001b[0;34m,\u001b[0m \u001b[0mcls\u001b[0m\u001b[0;34m)\u001b[0m\u001b[0;34m\u001b[0m\u001b[0;34m\u001b[0m\u001b[0m\n",
      "\u001b[0;32m/home/systems/engaging-ood/software/anaconda3/2018.12/lib/python3.7/site-packages/pandas/core/frame.py\u001b[0m in \u001b[0;36m_reduce\u001b[0;34m(self, op, name, axis, skipna, numeric_only, filter_type, **kwds)\u001b[0m\n\u001b[1;32m   6864\u001b[0m             \u001b[0;32mtry\u001b[0m\u001b[0;34m:\u001b[0m\u001b[0;34m\u001b[0m\u001b[0;34m\u001b[0m\u001b[0m\n\u001b[1;32m   6865\u001b[0m                 \u001b[0mvalues\u001b[0m \u001b[0;34m=\u001b[0m \u001b[0mself\u001b[0m\u001b[0;34m.\u001b[0m\u001b[0mvalues\u001b[0m\u001b[0;34m\u001b[0m\u001b[0;34m\u001b[0m\u001b[0m\n\u001b[0;32m-> 6866\u001b[0;31m                 \u001b[0mresult\u001b[0m \u001b[0;34m=\u001b[0m \u001b[0mf\u001b[0m\u001b[0;34m(\u001b[0m\u001b[0mvalues\u001b[0m\u001b[0;34m)\u001b[0m\u001b[0;34m\u001b[0m\u001b[0;34m\u001b[0m\u001b[0m\n\u001b[0m\u001b[1;32m   6867\u001b[0m \u001b[0;34m\u001b[0m\u001b[0m\n\u001b[1;32m   6868\u001b[0m                 if (filter_type == 'bool' and is_object_dtype(values) and\n",
      "\u001b[0;32m/home/systems/engaging-ood/software/anaconda3/2018.12/lib/python3.7/site-packages/pandas/core/frame.py\u001b[0m in \u001b[0;36mf\u001b[0;34m(x)\u001b[0m\n\u001b[1;32m   6855\u001b[0m \u001b[0;34m\u001b[0m\u001b[0m\n\u001b[1;32m   6856\u001b[0m         \u001b[0;32mdef\u001b[0m \u001b[0mf\u001b[0m\u001b[0;34m(\u001b[0m\u001b[0mx\u001b[0m\u001b[0;34m)\u001b[0m\u001b[0;34m:\u001b[0m\u001b[0;34m\u001b[0m\u001b[0;34m\u001b[0m\u001b[0m\n\u001b[0;32m-> 6857\u001b[0;31m             \u001b[0;32mreturn\u001b[0m \u001b[0mop\u001b[0m\u001b[0;34m(\u001b[0m\u001b[0mx\u001b[0m\u001b[0;34m,\u001b[0m \u001b[0maxis\u001b[0m\u001b[0;34m=\u001b[0m\u001b[0maxis\u001b[0m\u001b[0;34m,\u001b[0m \u001b[0mskipna\u001b[0m\u001b[0;34m=\u001b[0m\u001b[0mskipna\u001b[0m\u001b[0;34m,\u001b[0m \u001b[0;34m**\u001b[0m\u001b[0mkwds\u001b[0m\u001b[0;34m)\u001b[0m\u001b[0;34m\u001b[0m\u001b[0;34m\u001b[0m\u001b[0m\n\u001b[0m\u001b[1;32m   6858\u001b[0m \u001b[0;34m\u001b[0m\u001b[0m\n\u001b[1;32m   6859\u001b[0m         \u001b[0;31m# exclude timedelta/datetime unless we are uniform types\u001b[0m\u001b[0;34m\u001b[0m\u001b[0;34m\u001b[0m\u001b[0;34m\u001b[0m\u001b[0m\n",
      "\u001b[0;32m/home/systems/engaging-ood/software/anaconda3/2018.12/lib/python3.7/site-packages/pandas/core/nanops.py\u001b[0m in \u001b[0;36m_f\u001b[0;34m(*args, **kwargs)\u001b[0m\n\u001b[1;32m     75\u001b[0m             \u001b[0;32mtry\u001b[0m\u001b[0;34m:\u001b[0m\u001b[0;34m\u001b[0m\u001b[0;34m\u001b[0m\u001b[0m\n\u001b[1;32m     76\u001b[0m                 \u001b[0;32mwith\u001b[0m \u001b[0mnp\u001b[0m\u001b[0;34m.\u001b[0m\u001b[0merrstate\u001b[0m\u001b[0;34m(\u001b[0m\u001b[0minvalid\u001b[0m\u001b[0;34m=\u001b[0m\u001b[0;34m'ignore'\u001b[0m\u001b[0;34m)\u001b[0m\u001b[0;34m:\u001b[0m\u001b[0;34m\u001b[0m\u001b[0;34m\u001b[0m\u001b[0m\n\u001b[0;32m---> 77\u001b[0;31m                     \u001b[0;32mreturn\u001b[0m \u001b[0mf\u001b[0m\u001b[0;34m(\u001b[0m\u001b[0;34m*\u001b[0m\u001b[0margs\u001b[0m\u001b[0;34m,\u001b[0m \u001b[0;34m**\u001b[0m\u001b[0mkwargs\u001b[0m\u001b[0;34m)\u001b[0m\u001b[0;34m\u001b[0m\u001b[0;34m\u001b[0m\u001b[0m\n\u001b[0m\u001b[1;32m     78\u001b[0m             \u001b[0;32mexcept\u001b[0m \u001b[0mValueError\u001b[0m \u001b[0;32mas\u001b[0m \u001b[0me\u001b[0m\u001b[0;34m:\u001b[0m\u001b[0;34m\u001b[0m\u001b[0;34m\u001b[0m\u001b[0m\n\u001b[1;32m     79\u001b[0m                 \u001b[0;31m# we want to transform an object array\u001b[0m\u001b[0;34m\u001b[0m\u001b[0;34m\u001b[0m\u001b[0;34m\u001b[0m\u001b[0m\n",
      "\u001b[0;31mKeyboardInterrupt\u001b[0m: "
     ]
    }
   ],
   "source": []
  },
  {
   "cell_type": "code",
   "execution_count": 73,
   "metadata": {},
   "outputs": [],
   "source": [
    "df_comorb = df_dx_long.drop(['level','DX'], axis = 1)\n",
    "df_comorb = df_comorb.groupby('PAT_MRN_ID').max().reset_index()"
   ]
  },
  {
   "cell_type": "code",
   "execution_count": null,
   "metadata": {},
   "outputs": [],
   "source": [
    "df_comorb.sum(axis=0)"
   ]
  },
  {
   "cell_type": "code",
   "execution_count": 74,
   "metadata": {},
   "outputs": [],
   "source": [
    "# Get additional data fields\n",
    "df_add = pd.read_csv(path+file_add, sep='|', encoding= 'unicode_escape', dtype='object')\n",
    "\n",
    "## Join into main dataframe\n",
    "df_joined = df_all.merge(df_add, \n",
    "                         on = ['PAT_MRN_ID', 'PAT_ENC_CSN_ID','CALENDAR_DT_STR','HOSP_ADMSN_TIME', 'HOSP_DISCH_TIME',], \n",
    "                         how = 'left')\n",
    "df_joined['ADMISSION_DATE'] = df_joined.HOSP_ADMSN_TIME.apply(u.get_lab_dates)\n",
    "df_joined['DISCHARGE_DATE'] = df_joined.HOSP_DISCH_TIME.apply(u.get_lab_dates)\n",
    "df_joined['RECORD_DATE'] = df_joined.CALENDAR_DT_STR.apply(u.get_lab_dates)"
   ]
  },
  {
   "cell_type": "code",
   "execution_count": 75,
   "metadata": {},
   "outputs": [],
   "source": [
    "## Filter to only first two days and then select first non-null value for each patient/encounter\n",
    "df_admission = df_joined.loc[df_joined['RECORD_DATE'] <= (df_joined['ADMISSION_DATE'] + datetime.timedelta(days=1)),:]\n",
    "df_first = df_admission.groupby(['PAT_MRN_ID', 'PAT_ENC_CSN_ID','HOSP_ADMSN_TIME', 'HOSP_DISCH_TIME']).first().reset_index()"
   ]
  },
  {
   "cell_type": "code",
   "execution_count": 76,
   "metadata": {},
   "outputs": [],
   "source": [
    "# Sanity check\n",
    "# df_admission.query('PAT_MRN_ID == \"847766\"').iloc[:,75:90]\n",
    "# df_first.query('PAT_MRN_ID == \"847766\"').iloc[:,75:90]"
   ]
  },
  {
   "cell_type": "code",
   "execution_count": 77,
   "metadata": {},
   "outputs": [],
   "source": [
    "df_withlabs = df_discharged.merge(df_first,\n",
    "                              on = ['PAT_MRN_ID','PAT_ENC_CSN_ID', 'HOSP_ADMSN_TIME','HOSP_DISCH_TIME'],\n",
    "                              how = 'inner')\n",
    "df_full = df_withlabs.merge(df_comorb, on = ['PAT_MRN_ID'], how = 'left');\n",
    "df_full.rename(columns=u.RENAMED_COLUMNS, inplace=True)"
   ]
  },
  {
   "cell_type": "code",
   "execution_count": 78,
   "metadata": {},
   "outputs": [
    {
     "data": {
      "text/plain": [
       "Index(['PATIENT_ID', 'ENCOUNTER_ID', 'LOC_PARENT_NAME', 'Age', 'Gender',\n",
       "       'Date_Admission', 'Date_Discharge', 'Patient_Class', 'Outcome',\n",
       "       'HHC_SITE',\n",
       "       ...\n",
       "       'CBC: Leukocytes', 'WHITE_BLOOD_CELL_range', 'ADMISSION_DATE',\n",
       "       'DISCHARGE_DATE', 'RECORD_DATE', 'Essential hypertension', 'Diabetes',\n",
       "       'Coronary atherosclerosis and other heart disease',\n",
       "       'Cardiac dysrhythmias', 'Chronic kidney disease'],\n",
       "      dtype='object', length=104)"
      ]
     },
     "execution_count": 78,
     "metadata": {},
     "output_type": "execute_result"
    }
   ],
   "source": [
    "df_full.columns"
   ]
  },
  {
   "cell_type": "code",
   "execution_count": 79,
   "metadata": {},
   "outputs": [
    {
     "data": {
      "text/plain": [
       "Essential hypertension                              155\n",
       "Diabetes                                            100\n",
       "Coronary atherosclerosis and other heart disease      0\n",
       "Cardiac dysrhythmias                                  1\n",
       "Chronic kidney disease                               17\n",
       "dtype: int64"
      ]
     },
     "execution_count": 79,
     "metadata": {},
     "output_type": "execute_result"
    }
   ],
   "source": [
    "df_full[u.COMORBIDITIES_COLUMNS].sum(axis = 0)"
   ]
  },
  {
   "cell_type": "code",
   "execution_count": 80,
   "metadata": {},
   "outputs": [],
   "source": [
    "discharge_data = True\n",
    "comorbidities_data = True\n",
    "vitals_data = True\n",
    "lab_tests = True\n",
    "demographics_data = True\n",
    "swabs_data = False\n",
    "\n",
    "cols_select = ['PATIENT_ID', 'ENCOUNTER_ID', 'Date_Admission', 'Date_Discharge', 'Patient_Class', 'HHC_SITE']\n",
    "if demographics_data:\n",
    "    cols_select.extend(u.DEMOGRAPHICS_COLUMNS)\n",
    "if discharge_data:\n",
    "    cols_select.extend(u.ADMISSIONS_COLUMNS)\n",
    "if vitals_data:\n",
    "    cols_select.extend(u.VITALS_COLUMNS)\n",
    "if lab_tests:\n",
    "    cols_select.extend(u.LAB_COLUMNS)\n",
    "if comorbidities_data:\n",
    "    cols_select.extend(u.COMORBIDITIES_COLUMNS)"
   ]
  },
  {
   "cell_type": "code",
   "execution_count": 81,
   "metadata": {},
   "outputs": [
    {
     "name": "stdout",
     "output_type": "stream",
     "text": [
      "SaO2\n",
      "Body Temperature\n",
      "Respiratory Frequency\n",
      "Systolic Blood Pressure\n",
      "Cardiac Frequency\n",
      "ABG: PaO2\n",
      "Specimen clotted.  Test not performed.\n",
      "ABG: pH\n",
      "Specimen clotted.  Test not performed.\n",
      "Aspartate Aminotransferase (AST)\n",
      "Specimen hemolyzed. Test not performed.\n",
      "Specimen hemolyzed. Test not performed.\n",
      "Specimen hemolyzed. Test not performed.\n",
      "Hemolyzed specimen, test cannot be performed. Recollection of another specimen is recommended.\n",
      "Specimen hemolyzed. Test not performed.\n",
      "Specimen hemolyzed. Test not performed.\n",
      "Blood Calcium\n",
      "CBC: Hemoglobin\n",
      "No specimen received.\n",
      "CBC: Mean Corpuscular Volume (MCV)\n",
      "No specimen received.\n",
      "ABG: MetHb\n",
      "Specimen clotted.  Test not performed.\n",
      "C-Reactive Protein (CRP)\n",
      "Grossly Hemolyzed,Recollection Requested\n",
      "Test not performed due to insufficient quantity of specimen.\n",
      "ABG: Lactic Acid\n",
      "ABG: PaCO2\n",
      "Specimen clotted.  Test not performed.\n",
      "Alanine Aminotransferase (ALT)\n",
      "<5\n",
      "<5\n",
      "Hemolyzed specimen, test cannot be performed. Recollection of another specimen is recommended.\n",
      "<5\n",
      "<5\n",
      "Blood Amylase\n",
      "Blood Creatinine\n",
      "Blood Sodium\n",
      ">180\n",
      "Potassium Blood Level\n",
      "Specimen hemolyzed. Test not performed.\n",
      "Specimen hemolyzed.\n",
      "Specimen hemolyzed. Test not performed.\n",
      "Specimen hemolyzed. Test not performed.\n",
      "Hemolyzed specimen, test cannot be performed. Recollection of another specimen is recommended.\n",
      "Specimen hemolyzed. Test not performed.\n",
      "Grossly Hemolyzed,Recollection Requested\n",
      "ABG: COHb\n",
      "Specimen clotted.  Test not performed.\n",
      "D-Dimer\n",
      "<0.19\n",
      ">35.20\n",
      "CBC: Platelets\n",
      "Test not performed.\n",
      "Platelets are clumped on smear but appear normal in number.\n",
      "No specimen received.\n",
      "Total Bilirubin\n",
      "<0.2\n",
      "<0.2\n",
      "<0.2\n",
      "<0.2\n",
      "<0.2\n",
      "<0.2\n",
      "<0.2\n",
      "<0.2\n",
      "<0.2\n",
      "<0.2\n",
      "<0.2\n",
      "CBC: Red cell Distribution Width (RDW)\n",
      "No specimen received.\n",
      "Cholinesterase\n",
      "Glycemia\n",
      "Prothrombin Time (INR)\n",
      ">10.3\n",
      "Specimen clotted.  Test not performed.\n",
      "Blood/anticoagulant ratio of specimen is unsatisfactory for testing, please repeat.\n",
      "Blood Urea Nitrogen (BUN)\n",
      "CBC: Leukocytes\n",
      "No specimen received.\n"
     ]
    }
   ],
   "source": [
    "## Clean up columns\n",
    "df_clean = df_full.copy()\n",
    "\n",
    "df_clean['Glycemia'] = df_clean['Glycemia_1'].combine_first(df_clean['Glycemia_2'])\n",
    "df_clean.drop(['Glycemia_1', 'Glycemia_2'], axis=1, inplace = True)\n",
    "\n",
    "## Filter to relevant columns \n",
    "df_clean = df_clean.loc[:,cols_select]\n",
    "\n",
    "# # Parse floats\n",
    "for lab in u.VITALS_COLUMNS+u.LAB_COLUMNS:\n",
    "    print(lab)\n",
    "    df_clean.loc[:,lab] = df_clean.loc[:,lab].apply(u.try_parse_float)\n",
    "    \n",
    "\n",
    "## Recode male and female\n",
    "df_clean.replace({'Male': 0, 'Female': 1}, inplace = True)\n",
    "\n",
    "df_clean.loc[:,'C-Reactive Protein (CRP)'] = 10*df_clean.loc[:,'C-Reactive Protein (CRP)']\n",
    "\n",
    "df_clean.loc[:,'Outcome'] = df_clean.loc[:,'Outcome'].map(lambda  x: 1 if x == 'Expired' else 0)"
   ]
  },
  {
   "cell_type": "code",
   "execution_count": 82,
   "metadata": {},
   "outputs": [
    {
     "data": {
      "text/plain": [
       "0    459\n",
       "1     95\n",
       "Name: Outcome, dtype: int64"
      ]
     },
     "execution_count": 82,
     "metadata": {},
     "output_type": "execute_result"
    }
   ],
   "source": [
    "df_clean.Outcome.value_counts()"
   ]
  },
  {
   "cell_type": "code",
   "execution_count": 30,
   "metadata": {},
   "outputs": [],
   "source": [
    "## Update\n",
    "df_clean_main = df_clean.query('HHC_SITE == \"Main\"')\n",
    "df_clean_other = df_clean.query('HHC_SITE == \"Other\"')\n",
    "df_clean.to_csv(\"/nfs/sloanlab003/projects/cov19_calc_proj/hartford/hhc_\"+version+\"_all.csv\", index = False)\n",
    "df_clean_main.to_csv(\"/nfs/sloanlab003/projects/cov19_calc_proj/hartford/hhc_\"+version+\"_main.csv\", index = False)\n",
    "df_clean_other.to_csv(\"/nfs/sloanlab003/projects/cov19_calc_proj/hartford/hhc_\"+version+\"_other.csv\", index = False)\n",
    "np.transpose(df_clean.describe(include='all')).to_csv(\"/home/hwiberg/research/COVID_risk/covid19_hartford/descriptive_\"+version+\".csv\", index = True)"
   ]
  },
  {
   "cell_type": "code",
   "execution_count": 28,
   "metadata": {},
   "outputs": [
    {
     "data": {
      "text/plain": [
       "Index(['PATIENT_ID', 'ENCOUNTER_ID', 'Date_Admission', 'Date_Discharge',\n",
       "       'Patient_Class', 'HHC_SITE', 'Gender', 'Age', 'Outcome', 'SaO2',\n",
       "       'Body Temperature', 'Respiratory Frequency', 'Systolic Blood Pressure',\n",
       "       'Cardiac Frequency', 'ABG: PaO2', 'ABG: pH',\n",
       "       'Aspartate Aminotransferase (AST)', 'Blood Calcium', 'CBC: Hemoglobin',\n",
       "       'CBC: Mean Corpuscular Volume (MCV)', 'ABG: MetHb',\n",
       "       'C-Reactive Protein (CRP)', 'ABG: Lactic Acid', 'ABG: PaCO2',\n",
       "       'Alanine Aminotransferase (ALT)', 'Blood Amylase', 'Blood Creatinine',\n",
       "       'Blood Sodium', 'Potassium Blood Level', 'ABG: COHb', 'D-Dimer',\n",
       "       'CBC: Platelets', 'Total Bilirubin',\n",
       "       'CBC: Red cell Distribution Width (RDW)', 'Cholinesterase', 'Glycemia',\n",
       "       'Prothrombin Time (INR)', 'Blood Urea Nitrogen (BUN)',\n",
       "       'CBC: Leukocytes', 'Essential hypertension', 'Diabetes',\n",
       "       'Coronary atherosclerosis and other heart disease',\n",
       "       'Cardiac dysrhythmias', 'Chronic kidney disease'],\n",
       "      dtype='object')"
      ]
     },
     "execution_count": 28,
     "metadata": {},
     "output_type": "execute_result"
    }
   ],
   "source": [
    "df_clean.columns"
   ]
  },
  {
   "cell_type": "code",
   "execution_count": 29,
   "metadata": {},
   "outputs": [
    {
     "data": {
      "text/html": [
       "<div>\n",
       "<style scoped>\n",
       "    .dataframe tbody tr th:only-of-type {\n",
       "        vertical-align: middle;\n",
       "    }\n",
       "\n",
       "    .dataframe tbody tr th {\n",
       "        vertical-align: top;\n",
       "    }\n",
       "\n",
       "    .dataframe thead th {\n",
       "        text-align: right;\n",
       "    }\n",
       "</style>\n",
       "<table border=\"1\" class=\"dataframe\">\n",
       "  <thead>\n",
       "    <tr style=\"text-align: right;\">\n",
       "      <th>Outcome</th>\n",
       "      <th>0</th>\n",
       "      <th>1</th>\n",
       "    </tr>\n",
       "    <tr>\n",
       "      <th>Patient_Class</th>\n",
       "      <th></th>\n",
       "      <th></th>\n",
       "    </tr>\n",
       "  </thead>\n",
       "  <tbody>\n",
       "    <tr>\n",
       "      <th>Inpatient</th>\n",
       "      <td>459</td>\n",
       "      <td>95</td>\n",
       "    </tr>\n",
       "  </tbody>\n",
       "</table>\n",
       "</div>"
      ],
      "text/plain": [
       "Outcome          0   1\n",
       "Patient_Class         \n",
       "Inpatient      459  95"
      ]
     },
     "execution_count": 29,
     "metadata": {},
     "output_type": "execute_result"
    }
   ],
   "source": [
    "pd.crosstab(index = df_clean['Patient_Class'], \n",
    "            columns = df_clean['Outcome'])"
   ]
  },
  {
   "cell_type": "code",
   "execution_count": null,
   "metadata": {},
   "outputs": [],
   "source": []
  }
 ],
 "metadata": {
  "kernelspec": {
   "display_name": "Python 3",
   "language": "python",
   "name": "python3"
  },
  "language_info": {
   "codemirror_mode": {
    "name": "ipython",
    "version": 3
   },
   "file_extension": ".py",
   "mimetype": "text/x-python",
   "name": "python",
   "nbconvert_exporter": "python",
   "pygments_lexer": "ipython3",
   "version": "3.7.1"
  }
 },
 "nbformat": 4,
 "nbformat_minor": 2
}
