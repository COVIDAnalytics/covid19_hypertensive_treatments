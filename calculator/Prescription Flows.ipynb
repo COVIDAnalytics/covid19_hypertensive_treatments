{
 "cells": [
  {
   "cell_type": "code",
   "execution_count": 12,
   "metadata": {
    "scrolled": true
   },
   "outputs": [],
   "source": [
    "import evaluation.treatment_utils as  u\n",
    "import evaluation.descriptive_utils as d\n",
    "import pandas as pd\n",
    "import numpy as np\n",
    "import itertools\n",
    "from scipy import stats\n",
    "import matplotlib.pyplot as plt\n",
    "from ipysankeywidget import SankeyWidget"
   ]
  },
  {
   "cell_type": "code",
   "execution_count": 13,
   "metadata": {},
   "outputs": [],
   "source": [
    "from floweaver import *"
   ]
  },
  {
   "cell_type": "code",
   "execution_count": 14,
   "metadata": {},
   "outputs": [],
   "source": [
    "data_path = '../../covid19_treatments_data/matched_single_treatments_der_val_addl_outcomes/'\n",
    "outcome = 'COMORB_DEATH'\n",
    "\n",
    "preload = True\n",
    "matched = True\n",
    "match_status = 'matched' if matched else 'unmatched'\n",
    "\n",
    "SEEDS = range(1, 2)\n",
    "# algorithm_list = ['lr','rf','cart','qda','gb','xgboost']\n",
    "algorithm_list = ['lr','rf','cart','oct','xgboost','qda','gb']\n",
    "\n",
    "#%% Generate predictions across all combinations\n",
    " #['CORTICOSTEROIDS', 'INTERFERONOR', 'ACEI_ARBS']\n",
    "\n",
    "treatment = 'CORTICOSTEROIDS'\n",
    "data_version = 'train' # in ['train','test','validation','validation_cremona','validation_hope']:\n",
    "weighted_status = 'no_weights'\n",
    "threshold = 0.01"
   ]
  },
  {
   "cell_type": "code",
   "execution_count": 15,
   "metadata": {
    "scrolled": true
   },
   "outputs": [
    {
     "name": "stdout",
     "output_type": "stream",
     "text": [
      "CORTICOSTEROIDS_hope_hm_cremona_matched_all_treatments_train.csv\n",
      "Warning: missing columns ['CORTICOSTEROIDS']\n",
      "CORTICOSTEROIDS_hope_hm_cremona_matched_all_treatments_test.csv\n",
      "Warning: missing columns ['CORTICOSTEROIDS']\n"
     ]
    }
   ],
   "source": [
    "## Set variables based on specifications (do not need to modify)\n",
    "## Set variables that are dependent on these\n",
    "treatment_list = [treatment, 'NO_'+treatment]\n",
    "results_path = '../../covid19_treatments_results/'\n",
    "version_folder = 'matched_single_treatments_der_val_addl_outcomes/'+str(treatment)+'/'+str(outcome)+'/'\n",
    "save_path = results_path + version_folder + 'summary/'\n",
    "\n",
    "training_set_name = treatment+'_hope_hm_cremona_matched_all_treatments_train.csv'\n",
    "\n",
    "##  Load data for chosen version\n",
    "X, Z, y = u.load_data(data_path,training_set_name,\n",
    "                    split=data_version, matched=matched, prediction = outcome)\n",
    "\n",
    "summary = pd.read_csv(save_path+data_version+'_'+match_status+'_bypatient_summary_'+weighted_status+'_t'+str(threshold)+'.csv')\n",
    "Z_presc = summary['Prescribe']\n",
    "Y_presc = summary['AverageProbability']\n",
    "\n",
    "X['Z'] = Z     \n",
    "X['Z_presc'] = Z_presc\n",
    "X['Y'] = y\n",
    "X['Y_presc'] = Y_presc\n",
    "\n",
    "X_test, Z_test, y_test = u.load_data(data_path,training_set_name,\n",
    "                    split='test', matched=matched, prediction = outcome)"
   ]
  },
  {
   "cell_type": "code",
   "execution_count": 93,
   "metadata": {},
   "outputs": [
    {
     "data": {
      "application/vnd.jupyter.widget-view+json": {
       "model_id": "47f80b35b6c84bf1b6815fe30d673b2f",
       "version_major": 2,
       "version_minor": 0
      },
      "text/plain": [
       "SankeyWidget(groups=[{'id': 'given', 'type': 'process', 'title': '', 'nodes': ['given^Given: \\nCorticosteroids…"
      ]
     },
     "metadata": {},
     "output_type": "display_data"
    }
   ],
   "source": [
    "# Set the default size to fit the documentation better.\n",
    "\n",
    "## https://jiffyclub.github.io/palettable/colorbrewer/qualitative/\n",
    "\n",
    "size = dict(width=570, height=300)\n",
    "\n",
    "df_switch = X.groupby(['Z','Z_presc']).size().reset_index()\n",
    "df_switch = df_switch.rename({'Z':'source','Z_presc':'target',0:'value'},axis=1)\n",
    "df_switch['source'] = ['Given: \\n'+x.replace(\"_\",\" \").capitalize() for x in df_switch['source']]\n",
    "df_switch['target'] = ['Prescribed: \\n'+x.replace(\"_\",\" \").capitalize() for x in df_switch['target']]\n",
    "    \n",
    "nodes = {\n",
    "    'given': ProcessGroup(df_switch['source'].unique().tolist()),\n",
    "    'prescribed': ProcessGroup(df_switch['target'].unique().tolist()),\n",
    "}\n",
    "\n",
    "nodes['given'].partition = Partition.Simple('process', values = df_switch['source'].unique().tolist())\n",
    "nodes['prescribed'].partition = Partition.Simple('process', values = df_switch['target'].unique().tolist())\n",
    "\n",
    "ordering = [\n",
    "    ['given'],       # put \"farms\" on the left...\n",
    "    ['prescribed'],   # ... and \"customers\" on the right.\n",
    "]\n",
    "\n",
    "bundles = [\n",
    "    Bundle('given', 'prescribed'),\n",
    "]\n",
    "\n",
    "sdd = SankeyDefinition(nodes, bundles, ordering)\n",
    "weave(sdd, df_plot).to_widget(**size)"
   ]
  },
  {
   "cell_type": "code",
   "execution_count": null,
   "metadata": {},
   "outputs": [],
   "source": [
    "## Gender\n"
   ]
  },
  {
   "cell_type": "code",
   "execution_count": 57,
   "metadata": {},
   "outputs": [],
   "source": [
    "def create_flows(X, feature, label_dict = {}):\n",
    "    df_switch = X.groupby(['Z','Z_presc',feature]).size().reset_index()\n",
    "    df_switch = df_switch.rename({'Z':'source','Z_presc':'target', feature:'type',0:'value'},axis=1)\n",
    "    if label_dict != {}:\n",
    "        df_switch['type'] = df_switch['type'].replace(label_dict)\n",
    "    df_switch['source'] = ['Given: \\n'+x.replace(\"_\",\" \").capitalize() for x in df_switch['source']]\n",
    "    df_switch['target'] = ['Prescribed: \\n'+x.replace(\"_\",\" \").capitalize() for x in df_switch['target']]\n",
    "    return df_switch\n",
    "\n",
    "\n",
    "def plot_flows(df_plot, palette):\n",
    "    partition_by_type = Partition.Simple('type', df_plot['type'].unique().tolist())\n",
    "    sdd = SankeyDefinition(nodes, bundles, ordering, flow_partition=partition_by_type)\n",
    "    return weave(sdd, df_plot,palette=palette).to_widget(**size)"
   ]
  },
  {
   "cell_type": "code",
   "execution_count": 91,
   "metadata": {
    "scrolled": true
   },
   "outputs": [
    {
     "data": {
      "application/vnd.jupyter.widget-view+json": {
       "model_id": "0a1a0fdc6c884b67ba8ac3906406d35d",
       "version_major": 2,
       "version_minor": 0
      },
      "text/plain": [
       "SankeyWidget(groups=[{'id': 'given', 'type': 'process', 'title': '', 'nodes': ['given^Given: \\nCorticosteroids…"
      ]
     },
     "metadata": {},
     "output_type": "display_data"
    }
   ],
   "source": [
    "X['AgeGroup'] = pd.cut(X['AGE'], bins=[0,40,55,70,110],right=False, labels=False)\n",
    "X['CreatinineGroups'] = pd.cut(X['CREATININE'], bins=[0,0.8,2],right=False)"
   ]
  },
  {
   "cell_type": "code",
   "execution_count": null,
   "metadata": {},
   "outputs": [],
   "source": [
    "## By gender\n",
    "df_plot = create_flows(X, 'GENDER_MALE', {0:'Female',1:'Male'})\n",
    "plot_flows(df_plot, {'Male': 'lightblue', 'Female': 'red'})"
   ]
  },
  {
   "cell_type": "code",
   "execution_count": 92,
   "metadata": {},
   "outputs": [
    {
     "data": {
      "application/vnd.jupyter.widget-view+json": {
       "model_id": "4557b063e408496aa8bdb77b4dcd1472",
       "version_major": 2,
       "version_minor": 0
      },
      "text/plain": [
       "SankeyWidget(groups=[{'id': 'given', 'type': 'process', 'title': '', 'nodes': ['given^Given: \\nCorticosteroids…"
      ]
     },
     "metadata": {},
     "output_type": "display_data"
    }
   ],
   "source": [
    "## By CRP\n",
    "df_plot = create_flows(X, 'PCR_B', {0:'Normal CRP',1:'Elevated CRP'})\n",
    "plot_flows(df_plot, {'Male': 'lightblue', 'Female': 'red'})"
   ]
  },
  {
   "cell_type": "code",
   "execution_count": 94,
   "metadata": {},
   "outputs": [
    {
     "data": {
      "application/vnd.jupyter.widget-view+json": {
       "model_id": "e21ef197a9534df7949c60559f4404a8",
       "version_major": 2,
       "version_minor": 0
      },
      "text/plain": [
       "SankeyWidget(groups=[{'id': 'given', 'type': 'process', 'title': '', 'nodes': ['given^Given: \\nCorticosteroids…"
      ]
     },
     "metadata": {},
     "output_type": "display_data"
    }
   ],
   "source": [
    "## By O2 sat\n",
    "df_plot = create_flows(X, 'SAT02_BELOW92')\n",
    "plot_flows(df_plot,  palette =  {0: 'lightblue', 1: 'red'})\n",
    "# {0: 'lightblue', 1: 'steelblue', 2:'blue', 3:'darkblue'})"
   ]
  },
  {
   "cell_type": "code",
   "execution_count": 97,
   "metadata": {},
   "outputs": [
    {
     "data": {
      "application/vnd.jupyter.widget-view+json": {
       "model_id": "faa6ac3544f14bb6b4156aba121b8656",
       "version_major": 2,
       "version_minor": 0
      },
      "text/plain": [
       "SankeyWidget(groups=[{'id': 'given', 'type': 'process', 'title': '', 'nodes': ['given^Given: \\nCorticosteroids…"
      ]
     },
     "metadata": {},
     "output_type": "display_data"
    }
   ],
   "source": [
    "## Blood pressure plot\n",
    "df_plot = create_flows(X, 'BLOOD_PRESSURE_ABNORMAL_B')\n",
    "plot_flows(df_plot,  palette =  {0: 'lightblue', 1: 'red'})\n",
    "# {0: 'lightblue', 1: 'steelblue', 2:'blue', 3:'darkblue'})"
   ]
  },
  {
   "cell_type": "code",
   "execution_count": null,
   "metadata": {},
   "outputs": [],
   "source": []
  }
 ],
 "metadata": {
  "kernelspec": {
   "display_name": "Python 3",
   "language": "python",
   "name": "python3"
  },
  "language_info": {
   "codemirror_mode": {
    "name": "ipython",
    "version": 3
   },
   "file_extension": ".py",
   "mimetype": "text/x-python",
   "name": "python",
   "nbconvert_exporter": "python",
   "pygments_lexer": "ipython3",
   "version": "3.7.4"
  }
 },
 "nbformat": 4,
 "nbformat_minor": 4
}
